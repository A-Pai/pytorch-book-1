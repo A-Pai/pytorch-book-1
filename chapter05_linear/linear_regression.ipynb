{
 "cells": [
  {
   "cell_type": "markdown",
   "metadata": {},
   "source": [
    "# 线性规划"
   ]
  },
  {
   "cell_type": "code",
   "execution_count": 1,
   "metadata": {},
   "outputs": [],
   "source": [
    "import torch\n",
    "import torch.nn\n",
    "import torch.optim"
   ]
  },
  {
   "cell_type": "markdown",
   "metadata": {},
   "source": [
    "用 gels() 最小二乘"
   ]
  },
  {
   "cell_type": "code",
   "execution_count": 2,
   "metadata": {},
   "outputs": [
    {
     "data": {
      "text/plain": [
       "tensor([[  4.6667],\n",
       "        [  2.6667],\n",
       "        [-12.0000]])"
      ]
     },
     "execution_count": 2,
     "metadata": {},
     "output_type": "execute_result"
    }
   ],
   "source": [
    "x = torch.tensor([[1., 1., 1.], [2., 3., 1.],\n",
    "        [3., 5., 1.], [4., 2., 1.], [5., 4., 1.]])\n",
    "y = torch.tensor([-10., 12., 14., 16., 18.])\n",
    "wr, _ = torch.gels(y, x)\n",
    "w = wr[:3]\n",
    "w"
   ]
  },
  {
   "cell_type": "code",
   "execution_count": 3,
   "metadata": {},
   "outputs": [
    {
     "data": {
      "text/plain": [
       "tensor([[  4.6667,   3.3333],\n",
       "        [  2.6667,   1.3333],\n",
       "        [-12.0000,  -3.0000]])"
      ]
     },
     "execution_count": 3,
     "metadata": {},
     "output_type": "execute_result"
    }
   ],
   "source": [
    "x = torch.tensor([[1., 1., 1.], [2., 3., 1.], \n",
    "        [3., 5., 1.], [4., 2., 1.], [5., 4., 1.]])\n",
    "y = torch.tensor([[-10., -3.], [12., 14.], [14., 12.], [16., 16.], [18., 16.]])\n",
    "wr, _ = torch.gels(y, x)\n",
    "w = wr[:3, :]\n",
    "w"
   ]
  },
  {
   "cell_type": "markdown",
   "metadata": {},
   "source": [
    "MSE 损失"
   ]
  },
  {
   "cell_type": "code",
   "execution_count": 4,
   "metadata": {},
   "outputs": [
    {
     "data": {
      "text/plain": [
       "tensor(3.)"
      ]
     },
     "execution_count": 4,
     "metadata": {},
     "output_type": "execute_result"
    }
   ],
   "source": [
    "criterion = torch.nn.MSELoss()\n",
    "pred = torch.arange(5, requires_grad=True)\n",
    "y = torch.ones(5)\n",
    "loss = criterion(pred, y)\n",
    "loss"
   ]
  },
  {
   "cell_type": "markdown",
   "metadata": {},
   "source": [
    "用优化引擎求解"
   ]
  },
  {
   "cell_type": "code",
   "execution_count": 5,
   "metadata": {},
   "outputs": [
    {
     "name": "stdout",
     "output_type": "stream",
     "text": [
      "step = 0, loss = 204, W = [0.0, 0.0, 0.0]\n",
      "step = 1000, loss = 86.8401, W = [0.863132655620575, 0.8542488813400269, 0.8209308981895447]\n",
      "step = 2000, loss = 53.6289, W = [1.443850040435791, 1.3946014642715454, 1.1897931098937988]\n",
      "step = 3000, loss = 47.505, W = [1.7840828895568848, 1.634355902671814, 0.9572443962097168]\n",
      "step = 4000, loss = 44.2888, W = [2.0315651893615723, 1.7021595239639282, 0.2563045024871826]\n",
      "step = 5000, loss = 40.8731, W = [2.3051974773406982, 1.7125362157821655, -0.6180321574211121]\n",
      "step = 6000, loss = 37.5372, W = [2.6193673610687256, 1.6853389739990234, -1.5441280603408813]\n",
      "step = 7000, loss = 34.5258, W = [2.9509589672088623, 1.6359083652496338, -2.4787139892578125]\n",
      "step = 8000, loss = 31.9455, W = [3.259428024291992, 1.602895975112915, -3.4061663150787354]\n",
      "step = 9000, loss = 29.7652, W = [3.5038466453552246, 1.6267775297164917, -4.3211588859558105]\n",
      "step = 10000, loss = 27.9001, W = [3.6783804893493652, 1.7130744457244873, -5.2205023765563965]\n",
      "step = 11000, loss = 26.3032, W = [3.8159337043762207, 1.8293808698654175, -6.101877689361572]\n",
      "step = 12000, loss = 24.9573, W = [3.942659854888916, 1.9499529600143433, -6.963371276855469]\n",
      "step = 13000, loss = 23.8511, W = [4.0643534660339355, 2.068524122238159, -7.801889419555664]\n",
      "step = 14000, loss = 22.9731, W = [4.181187152862549, 2.183582067489624, -8.612066268920898]\n",
      "step = 15000, loss = 22.31, W = [4.292291641235352, 2.293663263320923, -9.385353088378906]\n",
      "step = 16000, loss = 21.8445, W = [4.395956039428711, 2.396719217300415, -10.108356475830078]\n",
      "step = 17000, loss = 21.553, W = [4.489279270172119, 2.4896860122680664, -10.760063171386719]\n",
      "step = 18000, loss = 21.4017, W = [4.567684173583984, 2.5678787231445312, -11.307973861694336]\n",
      "step = 19000, loss = 21.3455, W = [4.624871730804443, 2.6249470710754395, -11.707764625549316]\n",
      "step = 20000, loss = 21.3341, W = [4.655962944030762, 2.6559813022613525, -11.925153732299805]\n",
      "step = 21000, loss = 21.3333, W = [4.665531158447266, 2.6655333042144775, -11.992059707641602]\n",
      "step = 22000, loss = 21.3333, W = [4.666638374328613, 2.666637420654297, -11.999799728393555]\n",
      "step = 23000, loss = 21.3333, W = [4.666656970977783, 2.6666574478149414, -11.999942779541016]\n",
      "step = 24000, loss = 21.3333, W = [4.666671276092529, 2.6666712760925293, -12.0]\n",
      "step = 25000, loss = 21.3333, W = [4.66664457321167, 2.6666433811187744, -11.999999046325684]\n",
      "step = 26000, loss = 21.3333, W = [4.666555404663086, 2.666553020477295, -12.00000286102295]\n",
      "step = 27000, loss = 21.3333, W = [4.666673183441162, 2.666673183441162, -11.999999046325684]\n",
      "step = 28000, loss = 21.3333, W = [4.6666741371154785, 2.666674852371216, -11.999999046325684]\n",
      "step = 29000, loss = 21.3333, W = [4.666653156280518, 2.666653633117676, -12.00000286102295]\n",
      "step = 30000, loss = 21.3333, W = [4.666670799255371, 2.666670322418213, -11.999999046325684]\n"
     ]
    }
   ],
   "source": [
    "x = torch.tensor([[1., 1., 1.], [2., 3., 1.], \n",
    "        [3., 5., 1.], [4., 2., 1.], [5., 4., 1.]])\n",
    "y = torch.tensor([-10., 12., 14., 16., 18.])\n",
    "w = torch.zeros(3, requires_grad=True)\n",
    "\n",
    "criterion = torch.nn.MSELoss()\n",
    "optimizer = torch.optim.Adam([w,],)\n",
    "\n",
    "for step in range(30001):\n",
    "    if step:\n",
    "        optimizer.zero_grad()\n",
    "        loss.backward()\n",
    "        optimizer.step()\n",
    "    \n",
    "    pred = torch.mv(x, w)\n",
    "    loss = criterion(pred, y)\n",
    "    if step % 1000 == 0:\n",
    "        print('step = {}, loss = {:g}, W = {}'.format(\n",
    "                step, loss, w.tolist()))"
   ]
  },
  {
   "cell_type": "code",
   "execution_count": 6,
   "metadata": {
    "scrolled": true
   },
   "outputs": [
    {
     "name": "stdout",
     "output_type": "stream",
     "text": [
      "step = 0, loss = 181.743, weights = [0.6546443104743958, -0.45464909076690674], bias=0.25199759006500244\n",
      "step = 1000, loss = 76.7558, weights = [1.5041667222976685, 0.3901890814304352], bias=1.0525494813919067\n",
      "step = 2000, loss = 50.6065, weights = [2.0409324169158936, 0.9053123593330383], bias=1.3337146043777466\n",
      "step = 3000, loss = 45.9419, weights = [2.325666904449463, 1.1375575065612793], bias=0.956554114818573\n",
      "step = 4000, loss = 42.8158, weights = [2.5255167484283447, 1.247323989868164], bias=0.16685160994529724\n",
      "step = 5000, loss = 39.6352, weights = [2.7363860607147217, 1.3290859460830688], bias=-0.7445900440216064\n",
      "step = 6000, loss = 36.6376, weights = [2.962622880935669, 1.3919031620025635], bias=-1.6843712329864502\n",
      "step = 7000, loss = 33.935, weights = [3.1898698806762695, 1.4450064897537231], bias=-2.621410369873047\n",
      "step = 8000, loss = 31.5509, weights = [3.397010326385498, 1.5097614526748657], bias=-3.5460548400878906\n",
      "step = 9000, loss = 29.465, weights = [3.5682289600372314, 1.603097915649414], bias=-4.455835342407227\n",
      "step = 10000, loss = 27.6516, weights = [3.709576368331909, 1.7198143005371094], bias=-5.349694728851318\n",
      "step = 11000, loss = 26.0955, weights = [3.8383355140686035, 1.8431003093719482], bias=-6.226391792297363\n",
      "step = 12000, loss = 24.7861, weights = [3.9623186588287354, 1.9650063514709473], bias=-7.083752155303955\n",
      "step = 13000, loss = 23.7137, weights = [4.0823516845703125, 2.083895683288574], bias=-7.918028354644775\n",
      "step = 14000, loss = 22.8672, weights = [4.197875022888184, 2.1987717151641846], bias=-8.723250389099121\n",
      "step = 15000, loss = 22.2332, weights = [4.3077311515808105, 2.308241605758667], bias=-9.490192413330078\n",
      "step = 16000, loss = 21.7939, weights = [4.4099578857421875, 2.410238265991211], bias=-10.204550743103027\n",
      "step = 17000, loss = 21.5243, weights = [4.5013957023620605, 2.5015435218811035], bias=-10.843897819519043\n",
      "step = 18000, loss = 21.3893, weights = [4.577167510986328, 2.577237606048584], bias=-11.373882293701172\n",
      "step = 19000, loss = 21.3423, weights = [4.630842208862305, 2.630868911743164], bias=-11.749371528625488\n",
      "step = 20000, loss = 21.3338, weights = [4.658329963684082, 2.6583354473114014], bias=-11.94167709350586\n",
      "step = 21000, loss = 21.3333, weights = [4.665916919708252, 2.6659178733825684], bias=-11.994756698608398\n",
      "step = 22000, loss = 21.3333, weights = [4.666653633117676, 2.6666526794433594], bias=-11.999911308288574\n",
      "step = 23000, loss = 21.3333, weights = [4.666666030883789, 2.6666650772094727], bias=-11.999995231628418\n",
      "step = 24000, loss = 21.3333, weights = [4.6666483879089355, 2.66664719581604], bias=-11.999998092651367\n",
      "step = 25000, loss = 21.3333, weights = [4.66666316986084, 2.666663646697998], bias=-12.000000953674316\n",
      "step = 26000, loss = 21.3333, weights = [4.666665554046631, 2.6666646003723145], bias=-12.0\n",
      "step = 27000, loss = 21.3333, weights = [4.6666717529296875, 2.6666717529296875], bias=-12.0\n",
      "step = 28000, loss = 21.3333, weights = [4.66666316986084, 2.6666624546051025], bias=-12.0\n",
      "step = 29000, loss = 21.3333, weights = [4.6666669845581055, 2.6666665077209473], bias=-12.0\n",
      "step = 30000, loss = 21.3333, weights = [4.666670322418213, 2.666670560836792], bias=-11.999998092651367\n"
     ]
    }
   ],
   "source": [
    "x = torch.tensor([[1., 1.], [2., 3.], [3., 5.], [4., 2.], [5., 4.]])\n",
    "y = torch.tensor([-10., 12., 14., 16., 18.]).reshape(-1, 1)\n",
    "\n",
    "fc = torch.nn.Linear(2, 1)\n",
    "criterion = torch.nn.MSELoss()\n",
    "optimizer = torch.optim.Adam(fc.parameters())\n",
    "weights, bias = fc.parameters()\n",
    "\n",
    "for step in range(30001):\n",
    "    if step:\n",
    "        optimizer.zero_grad()\n",
    "        loss.backward()\n",
    "        optimizer.step()\n",
    "    \n",
    "    pred = fc(x)\n",
    "    loss = criterion(pred, y)\n",
    "    \n",
    "    if step % 1000 == 0:\n",
    "        print('step = {}, loss = {:g}, weights = {}, bias={}'.format(\n",
    "                step, loss, weights[0, :].tolist(), bias.item()))"
   ]
  },
  {
   "cell_type": "markdown",
   "metadata": {},
   "source": [
    "归一化"
   ]
  },
  {
   "cell_type": "code",
   "execution_count": 7,
   "metadata": {},
   "outputs": [],
   "source": [
    "x = torch.tensor([[1, 1, 1], [2, 3, 1], [3, 5, 1],\n",
    "        [4, 2, 1], [5, 4, 1]], dtype=torch.float32)\n",
    "y = torch.tensor([-10, 12, 14, 16, 18],\n",
    "        dtype=torch.float32)\n",
    "\n",
    "x_mean, x_std = torch.mean(x, dim=0), torch.std(x, dim=0)\n",
    "x_mean[-1], x_std[-1] = 0, 1\n",
    "x_norm = (x - x_mean) / x_std"
   ]
  },
  {
   "cell_type": "markdown",
   "metadata": {},
   "source": [
    "无归一化和有归一化的比较"
   ]
  },
  {
   "cell_type": "code",
   "execution_count": 8,
   "metadata": {},
   "outputs": [
    {
     "name": "stdout",
     "output_type": "stream",
     "text": [
      "step = 0, loss = 7.73196e+11\n",
      "step = 1000, loss = 437899\n",
      "step = 2000, loss = 436376\n",
      "step = 3000, loss = 436375\n",
      "step = 4000, loss = 436374\n",
      "step = 5000, loss = 436373\n",
      "step = 6000, loss = 436370\n",
      "step = 7000, loss = 436366\n",
      "step = 8000, loss = 436360\n",
      "step = 9000, loss = 436349\n",
      "step = 10000, loss = 436330\n"
     ]
    }
   ],
   "source": [
    "x = torch.tensor([[1000000, 0.0001], [2000000, 0.0003],\n",
    "        [3000000, 0.0005], [4000000, 0.0002], [5000000, 0.0004]])\n",
    "y = torch.tensor([-1000., 1200., 1400., 1600., 1800.]).reshape(-1, 1)\n",
    "\n",
    "fc = torch.nn.Linear(2, 1)\n",
    "criterion = torch.nn.MSELoss()\n",
    "optimizer = torch.optim.Adam(fc.parameters())\n",
    "\n",
    "for step in range(10001):\n",
    "    if step:\n",
    "        optimizer.zero_grad()\n",
    "        loss.backward()\n",
    "        optimizer.step()\n",
    "    pred = fc(x)\n",
    "    loss = criterion(pred, y)\n",
    "    if step % 1000 == 0:\n",
    "        print('step = {}, loss = {:g}'.format(step, loss))"
   ]
  },
  {
   "cell_type": "code",
   "execution_count": 9,
   "metadata": {
    "scrolled": true
   },
   "outputs": [
    {
     "name": "stdout",
     "output_type": "stream",
     "text": [
      "step = 0, loss = 2.45316e+06\n",
      "step = 1000, loss = 293568\n",
      "step = 2000, loss = 214458\n",
      "step = 3000, loss = 213353\n",
      "step = 4000, loss = 213333\n",
      "step = 5000, loss = 213333\n",
      "step = 6000, loss = 213333\n",
      "step = 7000, loss = 213333\n",
      "step = 8000, loss = 213333\n",
      "step = 9000, loss = 213333\n",
      "step = 10000, loss = 213333\n"
     ]
    }
   ],
   "source": [
    "x = torch.tensor([[1000000, 0.0001], [2000000, 0.0003],\n",
    "        [3000000, 0.0005], [4000000, 0.0002], [5000000, 0.0004]])\n",
    "y = torch.tensor([-1000., 1200., 1400., 1600., 1800.]).reshape(-1, 1)\n",
    "\n",
    "x_mean, x_std = torch.mean(x, dim=0), torch.std(x, dim=0)\n",
    "x_norm = (x - x_mean) / x_std\n",
    "y_mean, y_std = torch.mean(y, dim=0), torch.std(y, dim=0)\n",
    "y_norm = (y - y_mean) / y_std\n",
    "\n",
    "fc = torch.nn.Linear(2, 1)\n",
    "criterion = torch.nn.MSELoss()\n",
    "optimizer = torch.optim.Adam(fc.parameters())\n",
    "\n",
    "for step in range(10001):\n",
    "    if step:\n",
    "        optimizer.zero_grad()\n",
    "        loss_norm.backward()\n",
    "        optimizer.step()\n",
    "    pred_norm = fc(x_norm)\n",
    "    loss_norm = criterion(pred_norm, y_norm)\n",
    "    pred = pred_norm * y_std + y_mean\n",
    "    loss = criterion(pred, y)\n",
    "    if step % 1000 == 0:\n",
    "        print('step = {}, loss = {:g}'.format(step, loss))"
   ]
  }
 ],
 "metadata": {
  "kernelspec": {
   "display_name": "Python 3",
   "language": "python",
   "name": "python3"
  },
  "language_info": {
   "codemirror_mode": {
    "name": "ipython",
    "version": 3
   },
   "file_extension": ".py",
   "mimetype": "text/x-python",
   "name": "python",
   "nbconvert_exporter": "python",
   "pygments_lexer": "ipython3",
   "version": "3.6.5"
  }
 },
 "nbformat": 4,
 "nbformat_minor": 2
}
